{
 "cells": [
  {
   "metadata": {},
   "cell_type": "markdown",
   "source": "# Pandas",
   "id": "d6854f8fc61179b9"
  },
  {
   "metadata": {
    "ExecuteTime": {
     "end_time": "2024-06-22T21:37:02.861666Z",
     "start_time": "2024-06-22T21:37:02.551890Z"
    }
   },
   "cell_type": "code",
   "source": "import pandas as pd",
   "id": "initial_id",
   "outputs": [],
   "execution_count": 1
  },
  {
   "metadata": {
    "ExecuteTime": {
     "end_time": "2024-06-22T21:37:02.870866Z",
     "start_time": "2024-06-22T21:37:02.862920Z"
    }
   },
   "cell_type": "code",
   "source": [
    "s1=pd.Series([11,22,33])\n",
    "s2=pd.Series(['x','y','z'])\n",
    "df=pd.DataFrame({\"col1\": s1, \"col2\": s2})\n",
    "df"
   ],
   "id": "f3e053d1f5333291",
   "outputs": [
    {
     "data": {
      "text/plain": [
       "   col1 col2\n",
       "0    11    x\n",
       "1    22    y\n",
       "2    33    z"
      ],
      "text/html": [
       "<div>\n",
       "<style scoped>\n",
       "    .dataframe tbody tr th:only-of-type {\n",
       "        vertical-align: middle;\n",
       "    }\n",
       "\n",
       "    .dataframe tbody tr th {\n",
       "        vertical-align: top;\n",
       "    }\n",
       "\n",
       "    .dataframe thead th {\n",
       "        text-align: right;\n",
       "    }\n",
       "</style>\n",
       "<table border=\"1\" class=\"dataframe\">\n",
       "  <thead>\n",
       "    <tr style=\"text-align: right;\">\n",
       "      <th></th>\n",
       "      <th>col1</th>\n",
       "      <th>col2</th>\n",
       "    </tr>\n",
       "  </thead>\n",
       "  <tbody>\n",
       "    <tr>\n",
       "      <th>0</th>\n",
       "      <td>11</td>\n",
       "      <td>x</td>\n",
       "    </tr>\n",
       "    <tr>\n",
       "      <th>1</th>\n",
       "      <td>22</td>\n",
       "      <td>y</td>\n",
       "    </tr>\n",
       "    <tr>\n",
       "      <th>2</th>\n",
       "      <td>33</td>\n",
       "      <td>z</td>\n",
       "    </tr>\n",
       "  </tbody>\n",
       "</table>\n",
       "</div>"
      ]
     },
     "execution_count": 2,
     "metadata": {},
     "output_type": "execute_result"
    }
   ],
   "execution_count": 2
  },
  {
   "metadata": {
    "ExecuteTime": {
     "end_time": "2024-06-22T21:37:02.876329Z",
     "start_time": "2024-06-22T21:37:02.871741Z"
    }
   },
   "cell_type": "code",
   "source": [
    "s3=pd.Series([1.234,5.789,7.123])\n",
    "df['col3']=s3\n",
    "df"
   ],
   "id": "d306b30b6ac8ab30",
   "outputs": [
    {
     "data": {
      "text/plain": [
       "   col1 col2   col3\n",
       "0    11    x  1.234\n",
       "1    22    y  5.789\n",
       "2    33    z  7.123"
      ],
      "text/html": [
       "<div>\n",
       "<style scoped>\n",
       "    .dataframe tbody tr th:only-of-type {\n",
       "        vertical-align: middle;\n",
       "    }\n",
       "\n",
       "    .dataframe tbody tr th {\n",
       "        vertical-align: top;\n",
       "    }\n",
       "\n",
       "    .dataframe thead th {\n",
       "        text-align: right;\n",
       "    }\n",
       "</style>\n",
       "<table border=\"1\" class=\"dataframe\">\n",
       "  <thead>\n",
       "    <tr style=\"text-align: right;\">\n",
       "      <th></th>\n",
       "      <th>col1</th>\n",
       "      <th>col2</th>\n",
       "      <th>col3</th>\n",
       "    </tr>\n",
       "  </thead>\n",
       "  <tbody>\n",
       "    <tr>\n",
       "      <th>0</th>\n",
       "      <td>11</td>\n",
       "      <td>x</td>\n",
       "      <td>1.234</td>\n",
       "    </tr>\n",
       "    <tr>\n",
       "      <th>1</th>\n",
       "      <td>22</td>\n",
       "      <td>y</td>\n",
       "      <td>5.789</td>\n",
       "    </tr>\n",
       "    <tr>\n",
       "      <th>2</th>\n",
       "      <td>33</td>\n",
       "      <td>z</td>\n",
       "      <td>7.123</td>\n",
       "    </tr>\n",
       "  </tbody>\n",
       "</table>\n",
       "</div>"
      ]
     },
     "execution_count": 3,
     "metadata": {},
     "output_type": "execute_result"
    }
   ],
   "execution_count": 3
  },
  {
   "metadata": {
    "ExecuteTime": {
     "end_time": "2024-06-22T21:37:02.880677Z",
     "start_time": "2024-06-22T21:37:02.877239Z"
    }
   },
   "cell_type": "code",
   "source": "df.loc[1:2]",
   "id": "f453827036864887",
   "outputs": [
    {
     "data": {
      "text/plain": [
       "   col1 col2   col3\n",
       "1    22    y  5.789\n",
       "2    33    z  7.123"
      ],
      "text/html": [
       "<div>\n",
       "<style scoped>\n",
       "    .dataframe tbody tr th:only-of-type {\n",
       "        vertical-align: middle;\n",
       "    }\n",
       "\n",
       "    .dataframe tbody tr th {\n",
       "        vertical-align: top;\n",
       "    }\n",
       "\n",
       "    .dataframe thead th {\n",
       "        text-align: right;\n",
       "    }\n",
       "</style>\n",
       "<table border=\"1\" class=\"dataframe\">\n",
       "  <thead>\n",
       "    <tr style=\"text-align: right;\">\n",
       "      <th></th>\n",
       "      <th>col1</th>\n",
       "      <th>col2</th>\n",
       "      <th>col3</th>\n",
       "    </tr>\n",
       "  </thead>\n",
       "  <tbody>\n",
       "    <tr>\n",
       "      <th>1</th>\n",
       "      <td>22</td>\n",
       "      <td>y</td>\n",
       "      <td>5.789</td>\n",
       "    </tr>\n",
       "    <tr>\n",
       "      <th>2</th>\n",
       "      <td>33</td>\n",
       "      <td>z</td>\n",
       "      <td>7.123</td>\n",
       "    </tr>\n",
       "  </tbody>\n",
       "</table>\n",
       "</div>"
      ]
     },
     "execution_count": 4,
     "metadata": {},
     "output_type": "execute_result"
    }
   ],
   "execution_count": 4
  },
  {
   "metadata": {
    "ExecuteTime": {
     "end_time": "2024-06-22T21:37:02.885339Z",
     "start_time": "2024-06-22T21:37:02.882269Z"
    }
   },
   "cell_type": "code",
   "source": "df['col3']",
   "id": "18eec24c4e8256eb",
   "outputs": [
    {
     "data": {
      "text/plain": [
       "0    1.234\n",
       "1    5.789\n",
       "2    7.123\n",
       "Name: col3, dtype: float64"
      ]
     },
     "execution_count": 5,
     "metadata": {},
     "output_type": "execute_result"
    }
   ],
   "execution_count": 5
  },
  {
   "metadata": {
    "ExecuteTime": {
     "end_time": "2024-06-22T21:37:02.889225Z",
     "start_time": "2024-06-22T21:37:02.886320Z"
    }
   },
   "cell_type": "code",
   "source": "df['col3'].mean()",
   "id": "6d88b024ea2a9009",
   "outputs": [
    {
     "data": {
      "text/plain": [
       "np.float64(4.715333333333334)"
      ]
     },
     "execution_count": 6,
     "metadata": {},
     "output_type": "execute_result"
    }
   ],
   "execution_count": 6
  },
  {
   "metadata": {},
   "cell_type": "markdown",
   "source": "# Shapely (geometry types and manipulation)",
   "id": "c78a7132035cb37c"
  },
  {
   "metadata": {
    "ExecuteTime": {
     "end_time": "2024-06-22T21:37:02.904555Z",
     "start_time": "2024-06-22T21:37:02.889946Z"
    }
   },
   "cell_type": "code",
   "source": [
    "from shapely.geometry import Point, Polygon\n",
    "from shapely.wkt import dumps, loads"
   ],
   "id": "f651531da7e50fef",
   "outputs": [],
   "execution_count": 7
  },
  {
   "metadata": {
    "ExecuteTime": {
     "end_time": "2024-06-22T21:37:02.907018Z",
     "start_time": "2024-06-22T21:37:02.905333Z"
    }
   },
   "cell_type": "code",
   "source": "",
   "id": "8fe9fd9d9f72512f",
   "outputs": [],
   "execution_count": 7
  },
  {
   "metadata": {
    "ExecuteTime": {
     "end_time": "2024-06-22T21:37:02.914707Z",
     "start_time": "2024-06-22T21:37:02.907800Z"
    }
   },
   "cell_type": "code",
   "source": [
    "point = Point(-73.943849, 40.6698) \n",
    "point"
   ],
   "id": "f68b20d6bd859f31",
   "outputs": [
    {
     "data": {
      "text/plain": [
       "<POINT (-73.944 40.67)>"
      ],
      "image/svg+xml": "<svg xmlns=\"http://www.w3.org/2000/svg\" xmlns:xlink=\"http://www.w3.org/1999/xlink\" width=\"100.0\" height=\"100.0\" viewBox=\"-74.943849 39.6698 2.0 2.0\" preserveAspectRatio=\"xMinYMin meet\"><g transform=\"matrix(1,0,0,-1,0,81.3396)\"><circle cx=\"-73.943849\" cy=\"40.6698\" r=\"0.06\" stroke=\"#555555\" stroke-width=\"0.02\" fill=\"#66cc99\" opacity=\"0.6\" /></g></svg>"
     },
     "execution_count": 8,
     "metadata": {},
     "output_type": "execute_result"
    }
   ],
   "execution_count": 8
  },
  {
   "metadata": {
    "ExecuteTime": {
     "end_time": "2024-06-22T21:37:02.919075Z",
     "start_time": "2024-06-22T21:37:02.915321Z"
    }
   },
   "cell_type": "code",
   "source": [
    "polygon = Polygon([(20,0),(-20,-10),(-20,50),(20,70),(30,40),(20,0)])\n",
    "polygon"
   ],
   "id": "d8e9c22f3296e779",
   "outputs": [
    {
     "data": {
      "text/plain": [
       "<POLYGON ((20 0, -20 -10, -20 50, 20 70, 30 40, 20 0))>"
      ],
      "image/svg+xml": "<svg xmlns=\"http://www.w3.org/2000/svg\" xmlns:xlink=\"http://www.w3.org/1999/xlink\" width=\"100.0\" height=\"100.0\" viewBox=\"-23.2 -13.2 56.400000000000006 86.4\" preserveAspectRatio=\"xMinYMin meet\"><g transform=\"matrix(1,0,0,-1,0,60.0)\"><path fill-rule=\"evenodd\" fill=\"#66cc99\" stroke=\"#555555\" stroke-width=\"1.7280000000000002\" opacity=\"0.6\" d=\"M 20.0,0.0 L -20.0,-10.0 L -20.0,50.0 L 20.0,70.0 L 30.0,40.0 L 20.0,0.0 z\" /></g></svg>"
     },
     "execution_count": 9,
     "metadata": {},
     "output_type": "execute_result"
    }
   ],
   "execution_count": 9
  },
  {
   "metadata": {
    "ExecuteTime": {
     "end_time": "2024-06-22T21:37:02.923070Z",
     "start_time": "2024-06-22T21:37:02.919649Z"
    }
   },
   "cell_type": "code",
   "source": [
    "utah = loads('POLYGON ((-114.052025 37.103989, -114.049797 37.000423, -113.484375 37.0, -112.898598 37.000401, -112.539604 37.000683, -112.0 37.000977, -111.412048 37.001514, -111.133018 37.00079, -110.75 37.003201, -110.5 37.004265, -110.469505 36.998001, -110.0 36.997967, -109.044571 36.999088, -109.045143 37.375, -109.042824 37.484692, -109.040848 37.881176, -109.041405 38.153027, -109.041107 38.1647, -109.059402 38.275501, -109.059296 38.5, -109.058868 38.719906, -109.051765 39.0, -109.050095 39.366699, -109.050697 39.4977, -109.050499 39.6605, -109.050156 40.222694, -109.047577 40.653641, -109.0494 41.000702, -109.2313 41.002102, -109.534233 40.998184, -110.0 40.997398, -110.047768 40.997696, -110.5 40.994801, -111.045982 40.998013, -111.045815 41.251774, -111.045097 41.579899, -111.045944 42.001633, -111.506493 41.999588, -112.108742 41.997677, -112.16317 41.996784, -112.172562 41.996643, -112.192184 42.001244, -113.0 41.998314, -113.875 41.988091, -114.040871 41.993805, -114.038803 41.884899, -114.041306 41.0, -114.04586 40.116997, -114.046295 39.906101, -114.046898 39.542801, -114.049026 38.67741, -114.049339 38.572968, -114.049095 38.14864, -114.0476 37.80946, -114.05098 37.746284, -114.051666 37.604805, -114.052025 37.103989))')\n",
    "utah"
   ],
   "id": "1a3e05c5ca0c4561",
   "outputs": [
    {
     "data": {
      "text/plain": [
       "<POLYGON ((-114.052 37.104, -114.05 37, -113.484 37, -112.899 37, -112.54 37...>"
      ],
      "image/svg+xml": "<svg xmlns=\"http://www.w3.org/2000/svg\" xmlns:xlink=\"http://www.w3.org/1999/xlink\" width=\"100.0\" height=\"100.0\" viewBox=\"-114.25247208 36.79751992 5.412071160000011 5.404560160000003\" preserveAspectRatio=\"xMinYMin meet\"><g transform=\"matrix(1,0,0,-1,0,78.9996)\"><path fill-rule=\"evenodd\" fill=\"#66cc99\" stroke=\"#555555\" stroke-width=\"0.10824142320000021\" opacity=\"0.6\" d=\"M -114.052025,37.103989 L -114.049797,37.000423 L -113.484375,37.0 L -112.898598,37.000401 L -112.539604,37.000683 L -112.0,37.000977 L -111.412048,37.001514 L -111.133018,37.00079 L -110.75,37.003201 L -110.5,37.004265 L -110.469505,36.998001 L -110.0,36.997967 L -109.044571,36.999088 L -109.045143,37.375 L -109.042824,37.484692 L -109.040848,37.881176 L -109.041405,38.153027 L -109.041107,38.1647 L -109.059402,38.275501 L -109.059296,38.5 L -109.058868,38.719906 L -109.051765,39.0 L -109.050095,39.366699 L -109.050697,39.4977 L -109.050499,39.6605 L -109.050156,40.222694 L -109.047577,40.653641 L -109.0494,41.000702 L -109.2313,41.002102 L -109.534233,40.998184 L -110.0,40.997398 L -110.047768,40.997696 L -110.5,40.994801 L -111.045982,40.998013 L -111.045815,41.251774 L -111.045097,41.579899 L -111.045944,42.001633 L -111.506493,41.999588 L -112.108742,41.997677 L -112.16317,41.996784 L -112.172562,41.996643 L -112.192184,42.001244 L -113.0,41.998314 L -113.875,41.988091 L -114.040871,41.993805 L -114.038803,41.884899 L -114.041306,41.0 L -114.04586,40.116997 L -114.046295,39.906101 L -114.046898,39.542801 L -114.049026,38.67741 L -114.049339,38.572968 L -114.049095,38.14864 L -114.0476,37.80946 L -114.05098,37.746284 L -114.051666,37.604805 L -114.052025,37.103989 z\" /></g></svg>"
     },
     "execution_count": 10,
     "metadata": {},
     "output_type": "execute_result"
    }
   ],
   "execution_count": 10
  },
  {
   "metadata": {
    "ExecuteTime": {
     "end_time": "2024-06-22T21:37:02.927007Z",
     "start_time": "2024-06-22T21:37:02.923993Z"
    }
   },
   "cell_type": "code",
   "source": "dumps(utah.centroid)",
   "id": "d3749c12fc3077ec",
   "outputs": [
    {
     "data": {
      "text/plain": [
       "'POINT (-111.6774042318347284 39.3236142276755416)'"
      ]
     },
     "execution_count": 11,
     "metadata": {},
     "output_type": "execute_result"
    }
   ],
   "execution_count": 11
  },
  {
   "metadata": {
    "ExecuteTime": {
     "end_time": "2024-06-22T21:37:02.930394Z",
     "start_time": "2024-06-22T21:37:02.927688Z"
    }
   },
   "cell_type": "code",
   "source": [
    "point = loads('POINT (-73.943849 40.6698)')\n",
    "point"
   ],
   "id": "c41181df142d916e",
   "outputs": [
    {
     "data": {
      "text/plain": [
       "<POINT (-73.944 40.67)>"
      ],
      "image/svg+xml": "<svg xmlns=\"http://www.w3.org/2000/svg\" xmlns:xlink=\"http://www.w3.org/1999/xlink\" width=\"100.0\" height=\"100.0\" viewBox=\"-74.943849 39.6698 2.0 2.0\" preserveAspectRatio=\"xMinYMin meet\"><g transform=\"matrix(1,0,0,-1,0,81.3396)\"><circle cx=\"-73.943849\" cy=\"40.6698\" r=\"0.06\" stroke=\"#555555\" stroke-width=\"0.02\" fill=\"#66cc99\" opacity=\"0.6\" /></g></svg>"
     },
     "execution_count": 12,
     "metadata": {},
     "output_type": "execute_result"
    }
   ],
   "execution_count": 12
  },
  {
   "metadata": {
    "ExecuteTime": {
     "end_time": "2024-06-22T21:37:02.934168Z",
     "start_time": "2024-06-22T21:37:02.932850Z"
    }
   },
   "cell_type": "code",
   "source": "",
   "id": "62d4dd5792d944d",
   "outputs": [],
   "execution_count": 12
  }
 ],
 "metadata": {
  "kernelspec": {
   "display_name": "Python 3",
   "language": "python",
   "name": "python3"
  },
  "language_info": {
   "codemirror_mode": {
    "name": "ipython",
    "version": 2
   },
   "file_extension": ".py",
   "mimetype": "text/x-python",
   "name": "python",
   "nbconvert_exporter": "python",
   "pygments_lexer": "ipython2",
   "version": "2.7.6"
  }
 },
 "nbformat": 4,
 "nbformat_minor": 5
}
