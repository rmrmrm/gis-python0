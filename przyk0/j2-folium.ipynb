{
 "cells": [
  {
   "metadata": {},
   "cell_type": "markdown",
   "source": [
    "# Folium - prosty przykład\n",
    "\n",
    "## Using Leaflet and Folium to make interactive maps in Python\n",
    "\n",
    "https://www.earthdatascience.org/tutorials/introduction-to-leaflet-animated-maps/"
   ],
   "id": "acb9c9f6ad0b68e6"
  },
  {
   "metadata": {
    "ExecuteTime": {
     "end_time": "2024-06-22T21:38:38.836063Z",
     "start_time": "2024-06-22T21:38:38.442777Z"
    }
   },
   "cell_type": "code",
   "source": [
    "import folium\n",
    "from folium.plugins import MarkerCluster\n",
    "import pandas as pd"
   ],
   "id": "a5a22ae4deabdf21",
   "outputs": [],
   "execution_count": 1
  },
  {
   "metadata": {
    "ExecuteTime": {
     "end_time": "2024-06-22T21:38:38.844489Z",
     "start_time": "2024-06-22T21:38:38.837088Z"
    }
   },
   "cell_type": "code",
   "source": [
    "#Define coordinates of where we want to center our map\n",
    "boulder_coords = [40.015, -105.2705]\n",
    "\n",
    "#Create the map\n",
    "my_map = folium.Map(location = boulder_coords, zoom_start = 13)\n",
    "\n",
    "#Display the map\n",
    "my_map"
   ],
   "id": "27c1a969550a5280",
   "outputs": [
    {
     "data": {
      "text/plain": [
       "<folium.folium.Map at 0x106502590>"
      ],
      "text/html": [
       "<div style=\"width:100%;\"><div style=\"position:relative;width:100%;height:0;padding-bottom:60%;\"><span style=\"color:#565656\">Make this Notebook Trusted to load map: File -> Trust Notebook</span><iframe srcdoc=\"&lt;!DOCTYPE html&gt;\n",
       "&lt;html&gt;\n",
       "&lt;head&gt;\n",
       "    \n",
       "    &lt;meta http-equiv=&quot;content-type&quot; content=&quot;text/html; charset=UTF-8&quot; /&gt;\n",
       "    \n",
       "        &lt;script&gt;\n",
       "            L_NO_TOUCH = false;\n",
       "            L_DISABLE_3D = false;\n",
       "        &lt;/script&gt;\n",
       "    \n",
       "    &lt;style&gt;html, body {width: 100%;height: 100%;margin: 0;padding: 0;}&lt;/style&gt;\n",
       "    &lt;style&gt;#map {position:absolute;top:0;bottom:0;right:0;left:0;}&lt;/style&gt;\n",
       "    &lt;script src=&quot;https://cdn.jsdelivr.net/npm/leaflet@1.9.3/dist/leaflet.js&quot;&gt;&lt;/script&gt;\n",
       "    &lt;script src=&quot;https://code.jquery.com/jquery-3.7.1.min.js&quot;&gt;&lt;/script&gt;\n",
       "    &lt;script src=&quot;https://cdn.jsdelivr.net/npm/bootstrap@5.2.2/dist/js/bootstrap.bundle.min.js&quot;&gt;&lt;/script&gt;\n",
       "    &lt;script src=&quot;https://cdnjs.cloudflare.com/ajax/libs/Leaflet.awesome-markers/2.0.2/leaflet.awesome-markers.js&quot;&gt;&lt;/script&gt;\n",
       "    &lt;link rel=&quot;stylesheet&quot; href=&quot;https://cdn.jsdelivr.net/npm/leaflet@1.9.3/dist/leaflet.css&quot;/&gt;\n",
       "    &lt;link rel=&quot;stylesheet&quot; href=&quot;https://cdn.jsdelivr.net/npm/bootstrap@5.2.2/dist/css/bootstrap.min.css&quot;/&gt;\n",
       "    &lt;link rel=&quot;stylesheet&quot; href=&quot;https://netdna.bootstrapcdn.com/bootstrap/3.0.0/css/bootstrap-glyphicons.css&quot;/&gt;\n",
       "    &lt;link rel=&quot;stylesheet&quot; href=&quot;https://cdn.jsdelivr.net/npm/@fortawesome/fontawesome-free@6.2.0/css/all.min.css&quot;/&gt;\n",
       "    &lt;link rel=&quot;stylesheet&quot; href=&quot;https://cdnjs.cloudflare.com/ajax/libs/Leaflet.awesome-markers/2.0.2/leaflet.awesome-markers.css&quot;/&gt;\n",
       "    &lt;link rel=&quot;stylesheet&quot; href=&quot;https://cdn.jsdelivr.net/gh/python-visualization/folium/folium/templates/leaflet.awesome.rotate.min.css&quot;/&gt;\n",
       "    \n",
       "            &lt;meta name=&quot;viewport&quot; content=&quot;width=device-width,\n",
       "                initial-scale=1.0, maximum-scale=1.0, user-scalable=no&quot; /&gt;\n",
       "            &lt;style&gt;\n",
       "                #map_2fd3295aef7ac781306c791bb4db317d {\n",
       "                    position: relative;\n",
       "                    width: 100.0%;\n",
       "                    height: 100.0%;\n",
       "                    left: 0.0%;\n",
       "                    top: 0.0%;\n",
       "                }\n",
       "                .leaflet-container { font-size: 1rem; }\n",
       "            &lt;/style&gt;\n",
       "        \n",
       "&lt;/head&gt;\n",
       "&lt;body&gt;\n",
       "    \n",
       "    \n",
       "            &lt;div class=&quot;folium-map&quot; id=&quot;map_2fd3295aef7ac781306c791bb4db317d&quot; &gt;&lt;/div&gt;\n",
       "        \n",
       "&lt;/body&gt;\n",
       "&lt;script&gt;\n",
       "    \n",
       "    \n",
       "            var map_2fd3295aef7ac781306c791bb4db317d = L.map(\n",
       "                &quot;map_2fd3295aef7ac781306c791bb4db317d&quot;,\n",
       "                {\n",
       "                    center: [40.015, -105.2705],\n",
       "                    crs: L.CRS.EPSG3857,\n",
       "                    zoom: 13,\n",
       "                    zoomControl: true,\n",
       "                    preferCanvas: false,\n",
       "                }\n",
       "            );\n",
       "\n",
       "            \n",
       "\n",
       "        \n",
       "    \n",
       "            var tile_layer_a6a741f3f2319ed90e13e488cc099d12 = L.tileLayer(\n",
       "                &quot;https://tile.openstreetmap.org/{z}/{x}/{y}.png&quot;,\n",
       "                {&quot;attribution&quot;: &quot;\\u0026copy; \\u003ca href=\\&quot;https://www.openstreetmap.org/copyright\\&quot;\\u003eOpenStreetMap\\u003c/a\\u003e contributors&quot;, &quot;detectRetina&quot;: false, &quot;maxNativeZoom&quot;: 19, &quot;maxZoom&quot;: 19, &quot;minZoom&quot;: 0, &quot;noWrap&quot;: false, &quot;opacity&quot;: 1, &quot;subdomains&quot;: &quot;abc&quot;, &quot;tms&quot;: false}\n",
       "            );\n",
       "        \n",
       "    \n",
       "            tile_layer_a6a741f3f2319ed90e13e488cc099d12.addTo(map_2fd3295aef7ac781306c791bb4db317d);\n",
       "        \n",
       "&lt;/script&gt;\n",
       "&lt;/html&gt;\" style=\"position:absolute;width:100%;height:100%;left:0;top:0;border:none !important;\" allowfullscreen webkitallowfullscreen mozallowfullscreen></iframe></div></div>"
      ]
     },
     "execution_count": 2,
     "metadata": {},
     "output_type": "execute_result"
    }
   ],
   "execution_count": 2
  },
  {
   "metadata": {
    "ExecuteTime": {
     "end_time": "2024-06-22T21:38:38.846763Z",
     "start_time": "2024-06-22T21:38:38.845331Z"
    }
   },
   "cell_type": "code",
   "source": "",
   "id": "5b2a8db6dfe294b",
   "outputs": [],
   "execution_count": 2
  },
  {
   "metadata": {
    "ExecuteTime": {
     "end_time": "2024-06-22T21:38:38.854226Z",
     "start_time": "2024-06-22T21:38:38.847631Z"
    }
   },
   "cell_type": "code",
   "source": [
    "#Define the coordinates we want our markers to be at\n",
    "CU_Boulder_coords = [40.007153, -105.266930]\n",
    "East_Campus_coords = [40.013501, -105.251889]\n",
    "SEEC_coords = [40.009837, -105.241905]\n",
    "\n",
    "#Add markers to the map\n",
    "folium.Marker(CU_Boulder_coords, popup = 'CU Boulder').add_to(my_map)\n",
    "folium.Marker(East_Campus_coords, popup = 'East Campus').add_to(my_map)\n",
    "folium.Marker(SEEC_coords, popup = 'SEEC Building').add_to(my_map)\n",
    "\n",
    "#Display the map\n",
    "my_map"
   ],
   "id": "134fd2dc963463c1",
   "outputs": [
    {
     "data": {
      "text/plain": [
       "<folium.folium.Map at 0x106502590>"
      ],
      "text/html": [
       "<div style=\"width:100%;\"><div style=\"position:relative;width:100%;height:0;padding-bottom:60%;\"><span style=\"color:#565656\">Make this Notebook Trusted to load map: File -> Trust Notebook</span><iframe srcdoc=\"&lt;!DOCTYPE html&gt;\n",
       "&lt;html&gt;\n",
       "&lt;head&gt;\n",
       "    \n",
       "    &lt;meta http-equiv=&quot;content-type&quot; content=&quot;text/html; charset=UTF-8&quot; /&gt;\n",
       "    \n",
       "        &lt;script&gt;\n",
       "            L_NO_TOUCH = false;\n",
       "            L_DISABLE_3D = false;\n",
       "        &lt;/script&gt;\n",
       "    \n",
       "    &lt;style&gt;html, body {width: 100%;height: 100%;margin: 0;padding: 0;}&lt;/style&gt;\n",
       "    &lt;style&gt;#map {position:absolute;top:0;bottom:0;right:0;left:0;}&lt;/style&gt;\n",
       "    &lt;script src=&quot;https://cdn.jsdelivr.net/npm/leaflet@1.9.3/dist/leaflet.js&quot;&gt;&lt;/script&gt;\n",
       "    &lt;script src=&quot;https://code.jquery.com/jquery-3.7.1.min.js&quot;&gt;&lt;/script&gt;\n",
       "    &lt;script src=&quot;https://cdn.jsdelivr.net/npm/bootstrap@5.2.2/dist/js/bootstrap.bundle.min.js&quot;&gt;&lt;/script&gt;\n",
       "    &lt;script src=&quot;https://cdnjs.cloudflare.com/ajax/libs/Leaflet.awesome-markers/2.0.2/leaflet.awesome-markers.js&quot;&gt;&lt;/script&gt;\n",
       "    &lt;link rel=&quot;stylesheet&quot; href=&quot;https://cdn.jsdelivr.net/npm/leaflet@1.9.3/dist/leaflet.css&quot;/&gt;\n",
       "    &lt;link rel=&quot;stylesheet&quot; href=&quot;https://cdn.jsdelivr.net/npm/bootstrap@5.2.2/dist/css/bootstrap.min.css&quot;/&gt;\n",
       "    &lt;link rel=&quot;stylesheet&quot; href=&quot;https://netdna.bootstrapcdn.com/bootstrap/3.0.0/css/bootstrap-glyphicons.css&quot;/&gt;\n",
       "    &lt;link rel=&quot;stylesheet&quot; href=&quot;https://cdn.jsdelivr.net/npm/@fortawesome/fontawesome-free@6.2.0/css/all.min.css&quot;/&gt;\n",
       "    &lt;link rel=&quot;stylesheet&quot; href=&quot;https://cdnjs.cloudflare.com/ajax/libs/Leaflet.awesome-markers/2.0.2/leaflet.awesome-markers.css&quot;/&gt;\n",
       "    &lt;link rel=&quot;stylesheet&quot; href=&quot;https://cdn.jsdelivr.net/gh/python-visualization/folium/folium/templates/leaflet.awesome.rotate.min.css&quot;/&gt;\n",
       "    \n",
       "            &lt;meta name=&quot;viewport&quot; content=&quot;width=device-width,\n",
       "                initial-scale=1.0, maximum-scale=1.0, user-scalable=no&quot; /&gt;\n",
       "            &lt;style&gt;\n",
       "                #map_2fd3295aef7ac781306c791bb4db317d {\n",
       "                    position: relative;\n",
       "                    width: 100.0%;\n",
       "                    height: 100.0%;\n",
       "                    left: 0.0%;\n",
       "                    top: 0.0%;\n",
       "                }\n",
       "                .leaflet-container { font-size: 1rem; }\n",
       "            &lt;/style&gt;\n",
       "        \n",
       "&lt;/head&gt;\n",
       "&lt;body&gt;\n",
       "    \n",
       "    \n",
       "            &lt;div class=&quot;folium-map&quot; id=&quot;map_2fd3295aef7ac781306c791bb4db317d&quot; &gt;&lt;/div&gt;\n",
       "        \n",
       "&lt;/body&gt;\n",
       "&lt;script&gt;\n",
       "    \n",
       "    \n",
       "            var map_2fd3295aef7ac781306c791bb4db317d = L.map(\n",
       "                &quot;map_2fd3295aef7ac781306c791bb4db317d&quot;,\n",
       "                {\n",
       "                    center: [40.015, -105.2705],\n",
       "                    crs: L.CRS.EPSG3857,\n",
       "                    zoom: 13,\n",
       "                    zoomControl: true,\n",
       "                    preferCanvas: false,\n",
       "                }\n",
       "            );\n",
       "\n",
       "            \n",
       "\n",
       "        \n",
       "    \n",
       "            var tile_layer_a6a741f3f2319ed90e13e488cc099d12 = L.tileLayer(\n",
       "                &quot;https://tile.openstreetmap.org/{z}/{x}/{y}.png&quot;,\n",
       "                {&quot;attribution&quot;: &quot;\\u0026copy; \\u003ca href=\\&quot;https://www.openstreetmap.org/copyright\\&quot;\\u003eOpenStreetMap\\u003c/a\\u003e contributors&quot;, &quot;detectRetina&quot;: false, &quot;maxNativeZoom&quot;: 19, &quot;maxZoom&quot;: 19, &quot;minZoom&quot;: 0, &quot;noWrap&quot;: false, &quot;opacity&quot;: 1, &quot;subdomains&quot;: &quot;abc&quot;, &quot;tms&quot;: false}\n",
       "            );\n",
       "        \n",
       "    \n",
       "            tile_layer_a6a741f3f2319ed90e13e488cc099d12.addTo(map_2fd3295aef7ac781306c791bb4db317d);\n",
       "        \n",
       "    \n",
       "            tile_layer_a6a741f3f2319ed90e13e488cc099d12.addTo(map_2fd3295aef7ac781306c791bb4db317d);\n",
       "        \n",
       "    \n",
       "            var marker_c3eadb10ee3486eaa5d99d7c93f2f59c = L.marker(\n",
       "                [40.007153, -105.26693],\n",
       "                {}\n",
       "            ).addTo(map_2fd3295aef7ac781306c791bb4db317d);\n",
       "        \n",
       "    \n",
       "        var popup_efdc5b8430122a97fab86de2ce71cd47 = L.popup({&quot;maxWidth&quot;: &quot;100%&quot;});\n",
       "\n",
       "        \n",
       "            \n",
       "                var html_0df8465e86712e0a7f3bc949a17b7b1b = $(`&lt;div id=&quot;html_0df8465e86712e0a7f3bc949a17b7b1b&quot; style=&quot;width: 100.0%; height: 100.0%;&quot;&gt;CU Boulder&lt;/div&gt;`)[0];\n",
       "                popup_efdc5b8430122a97fab86de2ce71cd47.setContent(html_0df8465e86712e0a7f3bc949a17b7b1b);\n",
       "            \n",
       "        \n",
       "\n",
       "        marker_c3eadb10ee3486eaa5d99d7c93f2f59c.bindPopup(popup_efdc5b8430122a97fab86de2ce71cd47)\n",
       "        ;\n",
       "\n",
       "        \n",
       "    \n",
       "    \n",
       "            var marker_cfcc900490fe86cb933821398467d2a5 = L.marker(\n",
       "                [40.013501, -105.251889],\n",
       "                {}\n",
       "            ).addTo(map_2fd3295aef7ac781306c791bb4db317d);\n",
       "        \n",
       "    \n",
       "        var popup_95706001e4b5425f163dce81eb8deadc = L.popup({&quot;maxWidth&quot;: &quot;100%&quot;});\n",
       "\n",
       "        \n",
       "            \n",
       "                var html_f4f9e1c52ca6075e52b0433824aea476 = $(`&lt;div id=&quot;html_f4f9e1c52ca6075e52b0433824aea476&quot; style=&quot;width: 100.0%; height: 100.0%;&quot;&gt;East Campus&lt;/div&gt;`)[0];\n",
       "                popup_95706001e4b5425f163dce81eb8deadc.setContent(html_f4f9e1c52ca6075e52b0433824aea476);\n",
       "            \n",
       "        \n",
       "\n",
       "        marker_cfcc900490fe86cb933821398467d2a5.bindPopup(popup_95706001e4b5425f163dce81eb8deadc)\n",
       "        ;\n",
       "\n",
       "        \n",
       "    \n",
       "    \n",
       "            var marker_bf59735d8f28ebad9c4fa23d88801e07 = L.marker(\n",
       "                [40.009837, -105.241905],\n",
       "                {}\n",
       "            ).addTo(map_2fd3295aef7ac781306c791bb4db317d);\n",
       "        \n",
       "    \n",
       "        var popup_dc364ca28288c7f68c8b9b9fe4d6caf3 = L.popup({&quot;maxWidth&quot;: &quot;100%&quot;});\n",
       "\n",
       "        \n",
       "            \n",
       "                var html_c70756b02745851c421bce58f34b6d48 = $(`&lt;div id=&quot;html_c70756b02745851c421bce58f34b6d48&quot; style=&quot;width: 100.0%; height: 100.0%;&quot;&gt;SEEC Building&lt;/div&gt;`)[0];\n",
       "                popup_dc364ca28288c7f68c8b9b9fe4d6caf3.setContent(html_c70756b02745851c421bce58f34b6d48);\n",
       "            \n",
       "        \n",
       "\n",
       "        marker_bf59735d8f28ebad9c4fa23d88801e07.bindPopup(popup_dc364ca28288c7f68c8b9b9fe4d6caf3)\n",
       "        ;\n",
       "\n",
       "        \n",
       "    \n",
       "&lt;/script&gt;\n",
       "&lt;/html&gt;\" style=\"position:absolute;width:100%;height:100%;left:0;top:0;border:none !important;\" allowfullscreen webkitallowfullscreen mozallowfullscreen></iframe></div></div>"
      ]
     },
     "execution_count": 3,
     "metadata": {},
     "output_type": "execute_result"
    }
   ],
   "execution_count": 3
  },
  {
   "metadata": {
    "ExecuteTime": {
     "end_time": "2024-06-22T21:38:39.047549Z",
     "start_time": "2024-06-22T21:38:38.855869Z"
    }
   },
   "cell_type": "code",
   "source": [
    "#Adding a tileset to our map\n",
    "\n",
    "# to nie działa\n",
    "\n",
    "map_with_tiles = folium.Map(location = boulder_coords, tiles = 'Stamen Toner')\n",
    "map_with_tiles"
   ],
   "id": "df21c8ec86d5b072",
   "outputs": [
    {
     "ename": "ValueError",
     "evalue": "Custom tiles must have an attribution.",
     "output_type": "error",
     "traceback": [
      "\u001B[0;31m---------------------------------------------------------------------------\u001B[0m",
      "\u001B[0;31mValueError\u001B[0m                                Traceback (most recent call last)",
      "Cell \u001B[0;32mIn[4], line 5\u001B[0m\n\u001B[1;32m      1\u001B[0m \u001B[38;5;66;03m#Adding a tileset to our map\u001B[39;00m\n\u001B[1;32m      2\u001B[0m \n\u001B[1;32m      3\u001B[0m \u001B[38;5;66;03m# to nie działa\u001B[39;00m\n\u001B[0;32m----> 5\u001B[0m map_with_tiles \u001B[38;5;241m=\u001B[39m \u001B[43mfolium\u001B[49m\u001B[38;5;241;43m.\u001B[39;49m\u001B[43mMap\u001B[49m\u001B[43m(\u001B[49m\u001B[43mlocation\u001B[49m\u001B[43m \u001B[49m\u001B[38;5;241;43m=\u001B[39;49m\u001B[43m \u001B[49m\u001B[43mboulder_coords\u001B[49m\u001B[43m,\u001B[49m\u001B[43m \u001B[49m\u001B[43mtiles\u001B[49m\u001B[43m \u001B[49m\u001B[38;5;241;43m=\u001B[39;49m\u001B[43m \u001B[49m\u001B[38;5;124;43m'\u001B[39;49m\u001B[38;5;124;43mStamen Toner\u001B[39;49m\u001B[38;5;124;43m'\u001B[39;49m\u001B[43m)\u001B[49m\n\u001B[1;32m      6\u001B[0m map_with_tiles\n",
      "File \u001B[0;32m~/dev/gis-python0/.venv/lib/python3.10/site-packages/folium/folium.py:323\u001B[0m, in \u001B[0;36mMap.__init__\u001B[0;34m(self, location, width, height, left, top, position, tiles, attr, min_zoom, max_zoom, zoom_start, min_lat, max_lat, min_lon, max_lon, max_bounds, crs, control_scale, prefer_canvas, no_touch, disable_3d, png_enabled, zoom_control, font_size, **kwargs)\u001B[0m\n\u001B[1;32m    321\u001B[0m     \u001B[38;5;28mself\u001B[39m\u001B[38;5;241m.\u001B[39madd_child(tiles)\n\u001B[1;32m    322\u001B[0m \u001B[38;5;28;01melif\u001B[39;00m tiles:\n\u001B[0;32m--> 323\u001B[0m     tile_layer \u001B[38;5;241m=\u001B[39m \u001B[43mTileLayer\u001B[49m\u001B[43m(\u001B[49m\n\u001B[1;32m    324\u001B[0m \u001B[43m        \u001B[49m\u001B[43mtiles\u001B[49m\u001B[38;5;241;43m=\u001B[39;49m\u001B[43mtiles\u001B[49m\u001B[43m,\u001B[49m\u001B[43m \u001B[49m\u001B[43mattr\u001B[49m\u001B[38;5;241;43m=\u001B[39;49m\u001B[43mattr\u001B[49m\u001B[43m,\u001B[49m\u001B[43m \u001B[49m\u001B[43mmin_zoom\u001B[49m\u001B[38;5;241;43m=\u001B[39;49m\u001B[43mmin_zoom\u001B[49m\u001B[43m,\u001B[49m\u001B[43m \u001B[49m\u001B[43mmax_zoom\u001B[49m\u001B[38;5;241;43m=\u001B[39;49m\u001B[43mmax_zoom\u001B[49m\n\u001B[1;32m    325\u001B[0m \u001B[43m    \u001B[49m\u001B[43m)\u001B[49m\n\u001B[1;32m    326\u001B[0m     \u001B[38;5;28mself\u001B[39m\u001B[38;5;241m.\u001B[39madd_child(tile_layer, name\u001B[38;5;241m=\u001B[39mtile_layer\u001B[38;5;241m.\u001B[39mtile_name)\n",
      "File \u001B[0;32m~/dev/gis-python0/.venv/lib/python3.10/site-packages/folium/raster_layers.py:140\u001B[0m, in \u001B[0;36mTileLayer.__init__\u001B[0;34m(self, tiles, min_zoom, max_zoom, max_native_zoom, attr, detect_retina, name, overlay, control, show, no_wrap, subdomains, tms, opacity, **kwargs)\u001B[0m\n\u001B[1;32m    138\u001B[0m \u001B[38;5;28mself\u001B[39m\u001B[38;5;241m.\u001B[39mtiles \u001B[38;5;241m=\u001B[39m tiles\n\u001B[1;32m    139\u001B[0m \u001B[38;5;28;01mif\u001B[39;00m \u001B[38;5;129;01mnot\u001B[39;00m attr:\n\u001B[0;32m--> 140\u001B[0m     \u001B[38;5;28;01mraise\u001B[39;00m \u001B[38;5;167;01mValueError\u001B[39;00m(\u001B[38;5;124m\"\u001B[39m\u001B[38;5;124mCustom tiles must have an attribution.\u001B[39m\u001B[38;5;124m\"\u001B[39m)\n\u001B[1;32m    142\u001B[0m \u001B[38;5;28mself\u001B[39m\u001B[38;5;241m.\u001B[39moptions \u001B[38;5;241m=\u001B[39m parse_options(\n\u001B[1;32m    143\u001B[0m     min_zoom\u001B[38;5;241m=\u001B[39mmin_zoom \u001B[38;5;129;01mor\u001B[39;00m \u001B[38;5;241m0\u001B[39m,\n\u001B[1;32m    144\u001B[0m     max_zoom\u001B[38;5;241m=\u001B[39mmax_zoom \u001B[38;5;129;01mor\u001B[39;00m \u001B[38;5;241m18\u001B[39m,\n\u001B[0;32m   (...)\u001B[0m\n\u001B[1;32m    152\u001B[0m     \u001B[38;5;241m*\u001B[39m\u001B[38;5;241m*\u001B[39mkwargs,\n\u001B[1;32m    153\u001B[0m )\n",
      "\u001B[0;31mValueError\u001B[0m: Custom tiles must have an attribution."
     ]
    }
   ],
   "execution_count": 4
  },
  {
   "metadata": {},
   "cell_type": "code",
   "source": [
    "#Using polygon markers with colors instead of default markers\n",
    "polygon_map = folium.Map(location = boulder_coords, zoom_start = 13)\n",
    "\n",
    "CU_Boulder_coords = [40.007153, -105.266930]\n",
    "East_Campus_coords = [40.013501, -105.251889]\n",
    "SEEC_coords = [40.009837, -105.241905]\n",
    "\n",
    "#Add markers to the map\n",
    "folium.RegularPolygonMarker(CU_Boulder_coords, popup = 'CU Boulder', fill_color = '#00ff40',\n",
    "                            number_of_sides = 3, radius = 10).add_to(polygon_map)\n",
    "folium.RegularPolygonMarker(East_Campus_coords, popup = 'EastCampus', fill_color = '#bf00ff',\n",
    "                            number_of_sides = 5, radius = 10).add_to(polygon_map)\n",
    "folium.RegularPolygonMarker(SEEC_coords, popup = 'SEEC Building', fill_color = '#ff0000',\n",
    "                           number_of_sides = 8, radius = 10).add_to(polygon_map)\n",
    "\n",
    "#Display the map\n",
    "polygon_map"
   ],
   "id": "85f65cfdb30d9e92",
   "outputs": [],
   "execution_count": null
  },
  {
   "metadata": {},
   "cell_type": "code",
   "source": "",
   "id": "1519d2da5bcddb11",
   "outputs": [],
   "execution_count": null
  }
 ],
 "metadata": {
  "kernelspec": {
   "display_name": "Python 3",
   "language": "python",
   "name": "python3"
  },
  "language_info": {
   "codemirror_mode": {
    "name": "ipython",
    "version": 2
   },
   "file_extension": ".py",
   "mimetype": "text/x-python",
   "name": "python",
   "nbconvert_exporter": "python",
   "pygments_lexer": "ipython2",
   "version": "2.7.6"
  }
 },
 "nbformat": 4,
 "nbformat_minor": 5
}
